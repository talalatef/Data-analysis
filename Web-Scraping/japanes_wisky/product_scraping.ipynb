{
 "cells": [
  {
   "cell_type": "markdown",
   "id": "ac0e5a54",
   "metadata": {},
   "source": [
    "# At first we import our libraries we use in our project"
   ]
  },
  {
   "cell_type": "code",
   "execution_count": 1,
   "id": "ef1ff55d",
   "metadata": {},
   "outputs": [],
   "source": [
    "from bs4 import BeautifulSoup\n",
    "import requests\n",
    "import pandas as pd "
   ]
  },
  {
   "cell_type": "markdown",
   "id": "dc436dbd",
   "metadata": {},
   "source": [
    "## we assain our baseurl  and user agent of our searcher "
   ]
  },
  {
   "cell_type": "code",
   "execution_count": 2,
   "id": "93675162",
   "metadata": {},
   "outputs": [],
   "source": [
    "baseurl = 'https://www.thewhiskyexchange.com'\n",
    "header = {'user-agent': 'Mozilla/5.0 (Windows NT 10.0; Win64; x64) AppleWebKit/537.36 (KHTML, like Gecko) Chrome/107.0.0.0 Safari/537.36'}"
   ]
  },
  {
   "cell_type": "markdown",
   "id": "e189a732",
   "metadata": {},
   "source": [
    "## here we collect the urls of our pages which we will scraping"
   ]
  },
  {
   "cell_type": "code",
   "execution_count": 3,
   "id": "a1153c43",
   "metadata": {},
   "outputs": [],
   "source": [
    "productlink = []\n",
    "for i in range(2): \n",
    "    r = requests.get(f'https://www.thewhiskyexchange.com/c/35/japanese-whisky?pg={i}')\n",
    "    soup = BeautifulSoup(r.content , 'lxml')\n",
    "    productitem = soup.find_all('li' , class_ = 'product-grid__item')\n",
    "    for item in productitem:\n",
    "        for link in item.find_all('a',  href = True):\n",
    "            productlink.append(baseurl + link['href'])"
   ]
  },
  {
   "cell_type": "markdown",
   "id": "e8714c97",
   "metadata": {},
   "source": [
    "## here we will scraping our data from each page "
   ]
  },
  {
   "cell_type": "code",
   "execution_count": 4,
   "id": "25140216",
   "metadata": {
    "scrolled": true
   },
   "outputs": [],
   "source": [
    "wiskylist = []\n",
    "for x in productlink:\n",
    "    r = requests.get(x,headers = header)\n",
    "    soup = BeautifulSoup(r.content , 'lxml')\n",
    "    name = soup.find('h1', class_ = 'product-main__name').text.strip()\n",
    "    concentration = soup.find('p' , class_ = 'product-main__data').text.strip()\n",
    "    try:\n",
    "        rating = soup.find('div', class_=\"review-overview\").text.strip()\n",
    "    except:\n",
    "        rating = 'no rating'\n",
    "    desc = soup.find('div', class_=\"product-main__description\").find('p').text.strip()\n",
    "    stock_action = soup.find('p',class_=\"product-action__stock-flag\").text.strip()\n",
    "    price = soup.find('p',class_=\"product-action__price\").text.strip()\n",
    "    \n",
    "    wisky = {\n",
    "        'Name':name,\n",
    "        'Concentration':concentration,\n",
    "        'Rating':rating,\n",
    "        'Description':desc,\n",
    "        'Stock_Action':stock_action,\n",
    "        'Price':price,\n",
    "        \n",
    "    }\n",
    "    wiskylist.append(wisky)\n",
    "    \n"
   ]
  },
  {
   "cell_type": "markdown",
   "id": "7577b48b",
   "metadata": {},
   "source": [
    "## we make our data in datafram to assain them in csv "
   ]
  },
  {
   "cell_type": "code",
   "execution_count": 5,
   "id": "27260719",
   "metadata": {},
   "outputs": [],
   "source": [
    "df = pd.DataFrame(wiskylist)"
   ]
  },
  {
   "cell_type": "code",
   "execution_count": 6,
   "id": "c98dc83e",
   "metadata": {},
   "outputs": [
    {
     "data": {
      "text/html": [
       "<div>\n",
       "<style scoped>\n",
       "    .dataframe tbody tr th:only-of-type {\n",
       "        vertical-align: middle;\n",
       "    }\n",
       "\n",
       "    .dataframe tbody tr th {\n",
       "        vertical-align: top;\n",
       "    }\n",
       "\n",
       "    .dataframe thead th {\n",
       "        text-align: right;\n",
       "    }\n",
       "</style>\n",
       "<table border=\"1\" class=\"dataframe\">\n",
       "  <thead>\n",
       "    <tr style=\"text-align: right;\">\n",
       "      <th></th>\n",
       "      <th>Name</th>\n",
       "      <th>Concentration</th>\n",
       "      <th>Rating</th>\n",
       "      <th>Description</th>\n",
       "      <th>Stock_Action</th>\n",
       "      <th>Price</th>\n",
       "    </tr>\n",
       "  </thead>\n",
       "  <tbody>\n",
       "    <tr>\n",
       "      <th>0</th>\n",
       "      <td>Hibiki Harmony</td>\n",
       "      <td>70cl / 43%</td>\n",
       "      <td>4\\n\\n\\n(60 Reviews)</td>\n",
       "      <td>Hibiki Japanese Harmony is a blend of Japanese...</td>\n",
       "      <td>In Stock</td>\n",
       "      <td>£76.95</td>\n",
       "    </tr>\n",
       "    <tr>\n",
       "      <th>1</th>\n",
       "      <td>Yamazaki 12 Year Old</td>\n",
       "      <td>70cl / 43%</td>\n",
       "      <td>4.5\\n\\n\\n(94 Reviews)</td>\n",
       "      <td>One of the first Japanese single malts to brea...</td>\n",
       "      <td>In Stock</td>\n",
       "      <td>£150</td>\n",
       "    </tr>\n",
       "    <tr>\n",
       "      <th>2</th>\n",
       "      <td>Yamazaki Distiller's Reserve</td>\n",
       "      <td>70cl / 43%</td>\n",
       "      <td>4.5\\n\\n\\n(54 Reviews)</td>\n",
       "      <td>A fresh and fruity whisky from Yamazaki, full ...</td>\n",
       "      <td>In Stock</td>\n",
       "      <td>£72.95</td>\n",
       "    </tr>\n",
       "    <tr>\n",
       "      <th>3</th>\n",
       "      <td>Nikka Coffey Grain Whisky</td>\n",
       "      <td>70cl / 45%</td>\n",
       "      <td>4.5\\n\\n\\n(52 Reviews)</td>\n",
       "      <td>A release of grain whisky from Japan's Nikka, ...</td>\n",
       "      <td>In Stock</td>\n",
       "      <td>£57.95</td>\n",
       "    </tr>\n",
       "    <tr>\n",
       "      <th>4</th>\n",
       "      <td>The Chita Whisky</td>\n",
       "      <td>70cl / 43%</td>\n",
       "      <td>4.5\\n\\n\\n(42 Reviews)</td>\n",
       "      <td>Chita is Suntory's grain distillery. The flags...</td>\n",
       "      <td>In Stock</td>\n",
       "      <td>£51.95</td>\n",
       "    </tr>\n",
       "  </tbody>\n",
       "</table>\n",
       "</div>"
      ],
      "text/plain": [
       "                           Name Concentration                 Rating  \\\n",
       "0                Hibiki Harmony    70cl / 43%    4\\n\\n\\n(60 Reviews)   \n",
       "1          Yamazaki 12 Year Old    70cl / 43%  4.5\\n\\n\\n(94 Reviews)   \n",
       "2  Yamazaki Distiller's Reserve    70cl / 43%  4.5\\n\\n\\n(54 Reviews)   \n",
       "3     Nikka Coffey Grain Whisky    70cl / 45%  4.5\\n\\n\\n(52 Reviews)   \n",
       "4              The Chita Whisky    70cl / 43%  4.5\\n\\n\\n(42 Reviews)   \n",
       "\n",
       "                                         Description Stock_Action   Price  \n",
       "0  Hibiki Japanese Harmony is a blend of Japanese...     In Stock  £76.95  \n",
       "1  One of the first Japanese single malts to brea...     In Stock    £150  \n",
       "2  A fresh and fruity whisky from Yamazaki, full ...     In Stock  £72.95  \n",
       "3  A release of grain whisky from Japan's Nikka, ...     In Stock  £57.95  \n",
       "4  Chita is Suntory's grain distillery. The flags...     In Stock  £51.95  "
      ]
     },
     "execution_count": 6,
     "metadata": {},
     "output_type": "execute_result"
    }
   ],
   "source": [
    "df.head()"
   ]
  },
  {
   "cell_type": "markdown",
   "id": "f7c9da61",
   "metadata": {},
   "source": [
    "## here assain our data to csv file to use it in or projects"
   ]
  },
  {
   "cell_type": "code",
   "execution_count": 7,
   "id": "301b1ea6",
   "metadata": {},
   "outputs": [],
   "source": [
    "df.to_csv('japanes_wisky_store_data.csv',index = False)"
   ]
  },
  {
   "cell_type": "code",
   "execution_count": null,
   "id": "82e440a3",
   "metadata": {},
   "outputs": [],
   "source": []
  }
 ],
 "metadata": {
  "kernelspec": {
   "display_name": "Python 3 (ipykernel)",
   "language": "python",
   "name": "python3"
  },
  "language_info": {
   "codemirror_mode": {
    "name": "ipython",
    "version": 3
   },
   "file_extension": ".py",
   "mimetype": "text/x-python",
   "name": "python",
   "nbconvert_exporter": "python",
   "pygments_lexer": "ipython3",
   "version": "3.9.12"
  }
 },
 "nbformat": 4,
 "nbformat_minor": 5
}
