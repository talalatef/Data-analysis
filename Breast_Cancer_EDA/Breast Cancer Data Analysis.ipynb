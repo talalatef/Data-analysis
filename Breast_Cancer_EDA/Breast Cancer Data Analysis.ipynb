{
 "cells": [
  {
   "cell_type": "markdown",
   "id": "0cc69f96",
   "metadata": {},
   "source": [
    "# Import our libraries and our data "
   ]
  },
  {
   "cell_type": "code",
   "execution_count": 2,
   "id": "b4be02d7",
   "metadata": {},
   "outputs": [],
   "source": [
    "import pandas as pd\n",
    "import matplotlib.pyplot as plt\n",
    "import seaborn as sns\n",
    "import numpy as np"
   ]
  },
  {
   "cell_type": "code",
   "execution_count": 6,
   "id": "e60d8dfd",
   "metadata": {},
   "outputs": [
    {
     "data": {
      "text/html": [
       "<div>\n",
       "<style scoped>\n",
       "    .dataframe tbody tr th:only-of-type {\n",
       "        vertical-align: middle;\n",
       "    }\n",
       "\n",
       "    .dataframe tbody tr th {\n",
       "        vertical-align: top;\n",
       "    }\n",
       "\n",
       "    .dataframe thead th {\n",
       "        text-align: right;\n",
       "    }\n",
       "</style>\n",
       "<table border=\"1\" class=\"dataframe\">\n",
       "  <thead>\n",
       "    <tr style=\"text-align: right;\">\n",
       "      <th></th>\n",
       "      <th>Age</th>\n",
       "      <th>Race</th>\n",
       "      <th>Marital Status</th>\n",
       "      <th>T Stage</th>\n",
       "      <th>N Stage</th>\n",
       "      <th>6th Stage</th>\n",
       "      <th>Grade</th>\n",
       "      <th>A Stage</th>\n",
       "      <th>Tumor Size</th>\n",
       "      <th>Estrogen Status</th>\n",
       "      <th>Progesterone Status</th>\n",
       "      <th>Regional Node Examined</th>\n",
       "      <th>Reginol Node Positive</th>\n",
       "      <th>Survival Months</th>\n",
       "      <th>Status</th>\n",
       "    </tr>\n",
       "  </thead>\n",
       "  <tbody>\n",
       "    <tr>\n",
       "      <th>0</th>\n",
       "      <td>49</td>\n",
       "      <td>White</td>\n",
       "      <td>Divorced</td>\n",
       "      <td>T2</td>\n",
       "      <td>N1</td>\n",
       "      <td>IIB</td>\n",
       "      <td>Moderately differentiated; Grade II</td>\n",
       "      <td>Regional</td>\n",
       "      <td>38</td>\n",
       "      <td>Positive</td>\n",
       "      <td>Negative</td>\n",
       "      <td>15</td>\n",
       "      <td>3</td>\n",
       "      <td>4</td>\n",
       "      <td>Dead</td>\n",
       "    </tr>\n",
       "    <tr>\n",
       "      <th>1</th>\n",
       "      <td>69</td>\n",
       "      <td>White</td>\n",
       "      <td>Married (including common law)</td>\n",
       "      <td>T1</td>\n",
       "      <td>N1</td>\n",
       "      <td>IIA</td>\n",
       "      <td>Moderately differentiated; Grade II</td>\n",
       "      <td>Regional</td>\n",
       "      <td>12</td>\n",
       "      <td>Positive</td>\n",
       "      <td>Negative</td>\n",
       "      <td>9</td>\n",
       "      <td>1</td>\n",
       "      <td>4</td>\n",
       "      <td>Dead</td>\n",
       "    </tr>\n",
       "    <tr>\n",
       "      <th>2</th>\n",
       "      <td>58</td>\n",
       "      <td>Black</td>\n",
       "      <td>Widowed</td>\n",
       "      <td>T1</td>\n",
       "      <td>N2</td>\n",
       "      <td>IIIA</td>\n",
       "      <td>Moderately differentiated; Grade II</td>\n",
       "      <td>Regional</td>\n",
       "      <td>2</td>\n",
       "      <td>Positive</td>\n",
       "      <td>Negative</td>\n",
       "      <td>11</td>\n",
       "      <td>4</td>\n",
       "      <td>4</td>\n",
       "      <td>Dead</td>\n",
       "    </tr>\n",
       "    <tr>\n",
       "      <th>3</th>\n",
       "      <td>31</td>\n",
       "      <td>Black</td>\n",
       "      <td>Single (never married)</td>\n",
       "      <td>T2</td>\n",
       "      <td>N2</td>\n",
       "      <td>IIIA</td>\n",
       "      <td>Poorly differentiated; Grade III</td>\n",
       "      <td>Regional</td>\n",
       "      <td>30</td>\n",
       "      <td>Negative</td>\n",
       "      <td>Negative</td>\n",
       "      <td>13</td>\n",
       "      <td>4</td>\n",
       "      <td>5</td>\n",
       "      <td>Dead</td>\n",
       "    </tr>\n",
       "    <tr>\n",
       "      <th>4</th>\n",
       "      <td>41</td>\n",
       "      <td>Black</td>\n",
       "      <td>Single (never married)</td>\n",
       "      <td>T1</td>\n",
       "      <td>N1</td>\n",
       "      <td>IIA</td>\n",
       "      <td>Moderately differentiated; Grade II</td>\n",
       "      <td>Regional</td>\n",
       "      <td>20</td>\n",
       "      <td>Negative</td>\n",
       "      <td>Negative</td>\n",
       "      <td>2</td>\n",
       "      <td>2</td>\n",
       "      <td>5</td>\n",
       "      <td>Dead</td>\n",
       "    </tr>\n",
       "  </tbody>\n",
       "</table>\n",
       "</div>"
      ],
      "text/plain": [
       "   Age  Race                   Marital Status T Stage  N Stage 6th Stage  \\\n",
       "0   49  White                        Divorced       T2      N1       IIB   \n",
       "1   69  White  Married (including common law)       T1      N1       IIA   \n",
       "2   58  Black                         Widowed       T1      N2      IIIA   \n",
       "3   31  Black          Single (never married)       T2      N2      IIIA   \n",
       "4   41  Black          Single (never married)       T1      N1       IIA   \n",
       "\n",
       "                                 Grade   A Stage  Tumor Size Estrogen Status  \\\n",
       "0  Moderately differentiated; Grade II  Regional          38        Positive   \n",
       "1  Moderately differentiated; Grade II  Regional          12        Positive   \n",
       "2  Moderately differentiated; Grade II  Regional           2        Positive   \n",
       "3     Poorly differentiated; Grade III  Regional          30        Negative   \n",
       "4  Moderately differentiated; Grade II  Regional          20        Negative   \n",
       "\n",
       "  Progesterone Status  Regional Node Examined  Reginol Node Positive  \\\n",
       "0            Negative                      15                      3   \n",
       "1            Negative                       9                      1   \n",
       "2            Negative                      11                      4   \n",
       "3            Negative                      13                      4   \n",
       "4            Negative                       2                      2   \n",
       "\n",
       "   Survival Months Status  \n",
       "0                4   Dead  \n",
       "1                4   Dead  \n",
       "2                4   Dead  \n",
       "3                5   Dead  \n",
       "4                5   Dead  "
      ]
     },
     "execution_count": 6,
     "metadata": {},
     "output_type": "execute_result"
    }
   ],
   "source": [
    "data = pd.read_excel('SEER_Breast_Cancer.xlsx')\n",
    "data.head()"
   ]
  },
  {
   "cell_type": "code",
   "execution_count": 7,
   "id": "146770e8",
   "metadata": {},
   "outputs": [
    {
     "data": {
      "text/html": [
       "<div>\n",
       "<style scoped>\n",
       "    .dataframe tbody tr th:only-of-type {\n",
       "        vertical-align: middle;\n",
       "    }\n",
       "\n",
       "    .dataframe tbody tr th {\n",
       "        vertical-align: top;\n",
       "    }\n",
       "\n",
       "    .dataframe thead th {\n",
       "        text-align: right;\n",
       "    }\n",
       "</style>\n",
       "<table border=\"1\" class=\"dataframe\">\n",
       "  <thead>\n",
       "    <tr style=\"text-align: right;\">\n",
       "      <th></th>\n",
       "      <th>Age</th>\n",
       "      <th>Race</th>\n",
       "      <th>Marital Status</th>\n",
       "      <th>T Stage</th>\n",
       "      <th>N Stage</th>\n",
       "      <th>6th Stage</th>\n",
       "      <th>Grade</th>\n",
       "      <th>A Stage</th>\n",
       "      <th>Tumor Size</th>\n",
       "      <th>Estrogen Status</th>\n",
       "      <th>Progesterone Status</th>\n",
       "      <th>Regional Node Examined</th>\n",
       "      <th>Reginol Node Positive</th>\n",
       "      <th>Survival Months</th>\n",
       "      <th>Status</th>\n",
       "    </tr>\n",
       "  </thead>\n",
       "  <tbody>\n",
       "    <tr>\n",
       "      <th>0</th>\n",
       "      <td>49</td>\n",
       "      <td>White</td>\n",
       "      <td>Divorced</td>\n",
       "      <td>T2</td>\n",
       "      <td>N1</td>\n",
       "      <td>IIB</td>\n",
       "      <td>Moderately differentiated; Grade II</td>\n",
       "      <td>Regional</td>\n",
       "      <td>38</td>\n",
       "      <td>Positive</td>\n",
       "      <td>Negative</td>\n",
       "      <td>15</td>\n",
       "      <td>3</td>\n",
       "      <td>4</td>\n",
       "      <td>Dead</td>\n",
       "    </tr>\n",
       "    <tr>\n",
       "      <th>1</th>\n",
       "      <td>69</td>\n",
       "      <td>White</td>\n",
       "      <td>Married (including common law)</td>\n",
       "      <td>T1</td>\n",
       "      <td>N1</td>\n",
       "      <td>IIA</td>\n",
       "      <td>Moderately differentiated; Grade II</td>\n",
       "      <td>Regional</td>\n",
       "      <td>12</td>\n",
       "      <td>Positive</td>\n",
       "      <td>Negative</td>\n",
       "      <td>9</td>\n",
       "      <td>1</td>\n",
       "      <td>4</td>\n",
       "      <td>Dead</td>\n",
       "    </tr>\n",
       "    <tr>\n",
       "      <th>2</th>\n",
       "      <td>58</td>\n",
       "      <td>Black</td>\n",
       "      <td>Widowed</td>\n",
       "      <td>T1</td>\n",
       "      <td>N2</td>\n",
       "      <td>IIIA</td>\n",
       "      <td>Moderately differentiated; Grade II</td>\n",
       "      <td>Regional</td>\n",
       "      <td>2</td>\n",
       "      <td>Positive</td>\n",
       "      <td>Negative</td>\n",
       "      <td>11</td>\n",
       "      <td>4</td>\n",
       "      <td>4</td>\n",
       "      <td>Dead</td>\n",
       "    </tr>\n",
       "    <tr>\n",
       "      <th>3</th>\n",
       "      <td>31</td>\n",
       "      <td>Black</td>\n",
       "      <td>Single (never married)</td>\n",
       "      <td>T2</td>\n",
       "      <td>N2</td>\n",
       "      <td>IIIA</td>\n",
       "      <td>Poorly differentiated; Grade III</td>\n",
       "      <td>Regional</td>\n",
       "      <td>30</td>\n",
       "      <td>Negative</td>\n",
       "      <td>Negative</td>\n",
       "      <td>13</td>\n",
       "      <td>4</td>\n",
       "      <td>5</td>\n",
       "      <td>Dead</td>\n",
       "    </tr>\n",
       "    <tr>\n",
       "      <th>4</th>\n",
       "      <td>41</td>\n",
       "      <td>Black</td>\n",
       "      <td>Single (never married)</td>\n",
       "      <td>T1</td>\n",
       "      <td>N1</td>\n",
       "      <td>IIA</td>\n",
       "      <td>Moderately differentiated; Grade II</td>\n",
       "      <td>Regional</td>\n",
       "      <td>20</td>\n",
       "      <td>Negative</td>\n",
       "      <td>Negative</td>\n",
       "      <td>2</td>\n",
       "      <td>2</td>\n",
       "      <td>5</td>\n",
       "      <td>Dead</td>\n",
       "    </tr>\n",
       "  </tbody>\n",
       "</table>\n",
       "</div>"
      ],
      "text/plain": [
       "   Age  Race                   Marital Status T Stage  N Stage 6th Stage  \\\n",
       "0   49  White                        Divorced       T2      N1       IIB   \n",
       "1   69  White  Married (including common law)       T1      N1       IIA   \n",
       "2   58  Black                         Widowed       T1      N2      IIIA   \n",
       "3   31  Black          Single (never married)       T2      N2      IIIA   \n",
       "4   41  Black          Single (never married)       T1      N1       IIA   \n",
       "\n",
       "                                 Grade   A Stage  Tumor Size Estrogen Status  \\\n",
       "0  Moderately differentiated; Grade II  Regional          38        Positive   \n",
       "1  Moderately differentiated; Grade II  Regional          12        Positive   \n",
       "2  Moderately differentiated; Grade II  Regional           2        Positive   \n",
       "3     Poorly differentiated; Grade III  Regional          30        Negative   \n",
       "4  Moderately differentiated; Grade II  Regional          20        Negative   \n",
       "\n",
       "  Progesterone Status  Regional Node Examined  Reginol Node Positive  \\\n",
       "0            Negative                      15                      3   \n",
       "1            Negative                       9                      1   \n",
       "2            Negative                      11                      4   \n",
       "3            Negative                      13                      4   \n",
       "4            Negative                       2                      2   \n",
       "\n",
       "   Survival Months Status  \n",
       "0                4   Dead  \n",
       "1                4   Dead  \n",
       "2                4   Dead  \n",
       "3                5   Dead  \n",
       "4                5   Dead  "
      ]
     },
     "execution_count": 7,
     "metadata": {},
     "output_type": "execute_result"
    }
   ],
   "source": [
    "data.head()"
   ]
  },
  {
   "cell_type": "code",
   "execution_count": 8,
   "id": "116f177b",
   "metadata": {},
   "outputs": [
    {
     "data": {
      "text/plain": [
       "Index(['Age', 'Race ', 'Marital Status', 'T Stage ', 'N Stage', '6th Stage',\n",
       "       'Grade', 'A Stage', 'Tumor Size', 'Estrogen Status',\n",
       "       'Progesterone Status', 'Regional Node Examined',\n",
       "       'Reginol Node Positive', 'Survival Months', 'Status'],\n",
       "      dtype='object')"
      ]
     },
     "execution_count": 8,
     "metadata": {},
     "output_type": "execute_result"
    }
   ],
   "source": [
    "data.columns"
   ]
  },
  {
   "cell_type": "code",
   "execution_count": 9,
   "id": "b36be8de",
   "metadata": {},
   "outputs": [
    {
     "name": "stdout",
     "output_type": "stream",
     "text": [
      "<class 'pandas.core.frame.DataFrame'>\n",
      "RangeIndex: 4024 entries, 0 to 4023\n",
      "Data columns (total 15 columns):\n",
      " #   Column                  Non-Null Count  Dtype \n",
      "---  ------                  --------------  ----- \n",
      " 0   Age                     4024 non-null   int64 \n",
      " 1   Race                    4024 non-null   object\n",
      " 2   Marital Status          4024 non-null   object\n",
      " 3   T Stage                 4024 non-null   object\n",
      " 4   N Stage                 4024 non-null   object\n",
      " 5   6th Stage               4024 non-null   object\n",
      " 6   Grade                   4024 non-null   object\n",
      " 7   A Stage                 4024 non-null   object\n",
      " 8   Tumor Size              4024 non-null   int64 \n",
      " 9   Estrogen Status         4024 non-null   object\n",
      " 10  Progesterone Status     4024 non-null   object\n",
      " 11  Regional Node Examined  4024 non-null   int64 \n",
      " 12  Reginol Node Positive   4024 non-null   int64 \n",
      " 13  Survival Months         4024 non-null   int64 \n",
      " 14  Status                  4024 non-null   object\n",
      "dtypes: int64(5), object(10)\n",
      "memory usage: 471.7+ KB\n"
     ]
    }
   ],
   "source": [
    "# let's see our data types to defined the analysis we will do on it \n",
    "data.info()"
   ]
  },
  {
   "cell_type": "markdown",
   "id": "b5a739a9",
   "metadata": {},
   "source": [
    "**columns `Age, Tumor Size, Regional Node Examined, Regional Node Positive, Survival Months` they are `numeric`**<br/>\n",
    "**columns `Race, Marital Status , T Stage, N Stage, Grade, A Stage, Estrogen Status, Progesterone Status, Status` they are `categorical`**"
   ]
  },
  {
   "cell_type": "markdown",
   "id": "6fc6da0b",
   "metadata": {},
   "source": [
    "# Fristly we will start with `univariant`analysis for nummeric and categorical "
   ]
  },
  {
   "cell_type": "markdown",
   "id": "551f703e",
   "metadata": {},
   "source": [
    "## Age"
   ]
  },
  {
   "cell_type": "markdown",
   "id": "31a6d2e1",
   "metadata": {},
   "source": [
    "### Estimation of location"
   ]
  },
  {
   "cell_type": "code",
   "execution_count": null,
   "id": "3dc18e6f",
   "metadata": {},
   "outputs": [],
   "source": [
    "# let's start with the age \n",
    "data['Age'].mean()"
   ]
  },
  {
   "cell_type": "code",
   "execution_count": null,
   "id": "3e76594e",
   "metadata": {},
   "outputs": [],
   "source": [
    "data['Age'].median()"
   ]
  },
  {
   "cell_type": "markdown",
   "id": "529cc396",
   "metadata": {},
   "source": [
    "**as we see mean and median is mostly same = 54 years, and this give us an indication that there is no outliers**"
   ]
  },
  {
   "cell_type": "code",
   "execution_count": null,
   "id": "f3c9b6af",
   "metadata": {},
   "outputs": [],
   "source": [
    "# let's make sure\n",
    "data['Age'].plot.box();"
   ]
  },
  {
   "cell_type": "markdown",
   "id": "665ca6a8",
   "metadata": {},
   "source": [
    "**as we see more than 50% percent of the data is between 45 and 60 years and this tell us**<br />\n",
    "`breast cancer more diffuse in old wemen`"
   ]
  },
  {
   "cell_type": "markdown",
   "id": "3373a3bf",
   "metadata": {},
   "source": [
    "### Estimation of Variability"
   ]
  },
  {
   "cell_type": "code",
   "execution_count": null,
   "id": "8f5371bb",
   "metadata": {},
   "outputs": [],
   "source": [
    "data['Age'].var()"
   ]
  },
  {
   "cell_type": "code",
   "execution_count": null,
   "id": "e50609eb",
   "metadata": {},
   "outputs": [],
   "source": [
    "data['Age'].std()"
   ]
  },
  {
   "cell_type": "markdown",
   "id": "bb841137",
   "metadata": {},
   "source": [
    "**this tell us that our data normaly distrbutted , `there is more data at old range`**"
   ]
  },
  {
   "cell_type": "code",
   "execution_count": 10,
   "id": "433b959e",
   "metadata": {},
   "outputs": [
    {
     "data": {
      "text/plain": [
       "Text(0.5, 0, 'Age')"
      ]
     },
     "execution_count": 10,
     "metadata": {},
     "output_type": "execute_result"
    },
    {
     "data": {
      "image/png": "[encoded data removed]",
      "text/plain": [
       "<Figure size 640x480 with 1 Axes>"
      ]
     },
     "metadata": {},
     "output_type": "display_data"
    }
   ],
   "source": [
    "# let't make sure and see the dencety\n",
    "# plt.hist(data['Age'], color= 'red')\n",
    "ax = data['Age'].plot.density()\n",
    "ax.set_xlabel(\"Age\")"
   ]
  },
  {
   "cell_type": "markdown",
   "id": "40c4e43e",
   "metadata": {},
   "source": [
    "### Race"
   ]
  },
  {
   "cell_type": "code",
   "execution_count": null,
   "id": "53aba6fa",
   "metadata": {},
   "outputs": [],
   "source": [
    "data['Race '].describe()"
   ]
  },
  {
   "cell_type": "markdown",
   "id": "0732dd7e",
   "metadata": {},
   "source": [
    "**as we see of this data, `mode of Race = 'White'` and it is almost equal `85%` of Reces**"
   ]
  },
  {
   "cell_type": "code",
   "execution_count": null,
   "id": "52aeca23",
   "metadata": {},
   "outputs": [],
   "source": [
    "data['Race '].value_counts()"
   ]
  },
  {
   "cell_type": "code",
   "execution_count": null,
   "id": "47e26c45",
   "metadata": {},
   "outputs": [],
   "source": [
    "# let's see that\n",
    "data['Race '].replace('Other (American Indian/AK Native, Asian/Pacific Islander)', 'Other', inplace = True)\n",
    "data['Race '].value_counts().plot.bar()\n",
    "plt.xlabel(\"Races\")\n",
    "plt.ylabel(\"Counts Of Races\");"
   ]
  },
  {
   "cell_type": "markdown",
   "id": "b298fa25",
   "metadata": {},
   "source": [
    "**as we see almost data is `White`** so we can say : `White Race is more affectted with Breast cancer`"
   ]
  },
  {
   "cell_type": "markdown",
   "id": "b13f5b31",
   "metadata": {},
   "source": [
    "### Marital Status "
   ]
  },
  {
   "cell_type": "code",
   "execution_count": null,
   "id": "b0092376",
   "metadata": {},
   "outputs": [],
   "source": [
    "data['Marital Status'].describe()"
   ]
  },
  {
   "cell_type": "markdown",
   "id": "a7221a34",
   "metadata": {},
   "source": [
    "**from above data we see that the `mode of Marital Status is Married (including common law)` and it is nearly = `65%` of the data**"
   ]
  },
  {
   "cell_type": "code",
   "execution_count": null,
   "id": "3c833c94",
   "metadata": {},
   "outputs": [],
   "source": [
    "data['Marital Status'].value_counts()"
   ]
  },
  {
   "cell_type": "code",
   "execution_count": null,
   "id": "75ceab0b",
   "metadata": {},
   "outputs": [],
   "source": [
    "data['Marital Status'].replace('Married (including common law)', 'Married', inplace = True)\n",
    "data['Marital Status'].value_counts().plot.bar()\n",
    "plt.xlabel(\"Marital Status\")\n",
    "plt.ylabel(\"Counts of Status\")\n",
    "plt.title(\"Marital Status Ploting\");"
   ]
  },
  {
   "cell_type": "markdown",
   "id": "0e7300fd",
   "metadata": {},
   "source": [
    "### T Stage"
   ]
  },
  {
   "cell_type": "code",
   "execution_count": null,
   "id": "7af2e72d",
   "metadata": {},
   "outputs": [],
   "source": [
    "data['T Stage '].value_counts()"
   ]
  },
  {
   "cell_type": "markdown",
   "id": "2b52a614",
   "metadata": {},
   "source": [
    "as we see that `T1 and T2` is most diffused between the patiant"
   ]
  },
  {
   "cell_type": "code",
   "execution_count": null,
   "id": "32fe5a63",
   "metadata": {},
   "outputs": [],
   "source": [
    "# let's make our vesualization to make sure\n",
    "\n",
    "data['T Stage '].value_counts().plot.bar()\n",
    "plt.title(\"T Stages Counts\");"
   ]
  },
  {
   "cell_type": "markdown",
   "id": "801123a1",
   "metadata": {},
   "source": [
    "# Secondly we will start with `bivariant`analysis for nummeric and categorical \n"
   ]
  },
  {
   "cell_type": "code",
   "execution_count": null,
   "id": "7bfc2bea",
   "metadata": {},
   "outputs": [],
   "source": []
  }
 ],
 "metadata": {
  "kernelspec": {
   "display_name": "Python 3 (ipykernel)",
   "language": "python",
   "name": "python3"
  },
  "language_info": {
   "codemirror_mode": {
    "name": "ipython",
    "version": 3
   },
   "file_extension": ".py",
   "mimetype": "text/x-python",
   "name": "python",
   "nbconvert_exporter": "python",
   "pygments_lexer": "ipython3",
   "version": "3.11.4"
  }
 },
 "nbformat": 4,
 "nbformat_minor": 5
}
